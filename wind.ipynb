{
 "cells": [
  {
   "cell_type": "code",
   "execution_count": 1,
   "metadata": {},
   "outputs": [],
   "source": [
    "import pandas as pd\n",
    "import numpy as np\n",
    "from sklearn.model_selection import train_test_split\n",
    "from sklearn.metrics import mean_squared_error, mean_absolute_error, r2_score\n",
    "from sklearn.preprocessing import StandardScaler\n",
    "from xgboost import XGBRegressor\n",
    "from sklearn.model_selection import GridSearchCV\n",
    "import pickle\n"
   ]
  },
  {
   "cell_type": "code",
   "execution_count": 2,
   "metadata": {},
   "outputs": [],
   "source": [
    "data = pd.read_csv('France_wind_data.csv')"
   ]
  },
  {
   "cell_type": "code",
   "execution_count": 3,
   "metadata": {},
   "outputs": [
    {
     "data": {
      "text/html": [
       "<div>\n",
       "<style scoped>\n",
       "    .dataframe tbody tr th:only-of-type {\n",
       "        vertical-align: middle;\n",
       "    }\n",
       "\n",
       "    .dataframe tbody tr th {\n",
       "        vertical-align: top;\n",
       "    }\n",
       "\n",
       "    .dataframe thead th {\n",
       "        text-align: right;\n",
       "    }\n",
       "</style>\n",
       "<table border=\"1\" class=\"dataframe\">\n",
       "  <thead>\n",
       "    <tr style=\"text-align: right;\">\n",
       "      <th></th>\n",
       "      <th>datetime</th>\n",
       "      <th>tempmax</th>\n",
       "      <th>tempmin</th>\n",
       "      <th>temp</th>\n",
       "      <th>feelslikemax</th>\n",
       "      <th>feelslikemin</th>\n",
       "      <th>feelslike</th>\n",
       "      <th>dew</th>\n",
       "      <th>humidity</th>\n",
       "      <th>precip</th>\n",
       "      <th>...</th>\n",
       "      <th>uvindex</th>\n",
       "      <th>severerisk</th>\n",
       "      <th>sunrise</th>\n",
       "      <th>sunset</th>\n",
       "      <th>moonphase</th>\n",
       "      <th>conditions</th>\n",
       "      <th>description</th>\n",
       "      <th>icon</th>\n",
       "      <th>stations</th>\n",
       "      <th>AVERAGE of Wind_MWh</th>\n",
       "    </tr>\n",
       "  </thead>\n",
       "  <tbody>\n",
       "    <tr>\n",
       "      <th>0</th>\n",
       "      <td>2022-08-10</td>\n",
       "      <td>91.3</td>\n",
       "      <td>53.0</td>\n",
       "      <td>73.4</td>\n",
       "      <td>87.6</td>\n",
       "      <td>53.0</td>\n",
       "      <td>72.1</td>\n",
       "      <td>47.9</td>\n",
       "      <td>46.5</td>\n",
       "      <td>0.000</td>\n",
       "      <td>...</td>\n",
       "      <td>9.0</td>\n",
       "      <td>NaN</td>\n",
       "      <td>2022-08-10T06:38:04</td>\n",
       "      <td>2022-08-10T21:02:35</td>\n",
       "      <td>0.44</td>\n",
       "      <td>Clear</td>\n",
       "      <td>Clear conditions throughout the day.</td>\n",
       "      <td>clear-day</td>\n",
       "      <td>07460099999,07379099999,LFLC,07374099999,LFLV,...</td>\n",
       "      <td>4992.125000</td>\n",
       "    </tr>\n",
       "    <tr>\n",
       "      <th>1</th>\n",
       "      <td>2022-08-11</td>\n",
       "      <td>94.0</td>\n",
       "      <td>54.4</td>\n",
       "      <td>74.7</td>\n",
       "      <td>90.7</td>\n",
       "      <td>54.4</td>\n",
       "      <td>73.5</td>\n",
       "      <td>49.3</td>\n",
       "      <td>46.1</td>\n",
       "      <td>0.000</td>\n",
       "      <td>...</td>\n",
       "      <td>9.0</td>\n",
       "      <td>NaN</td>\n",
       "      <td>2022-08-11T06:39:18</td>\n",
       "      <td>2022-08-11T21:01:02</td>\n",
       "      <td>0.48</td>\n",
       "      <td>Clear</td>\n",
       "      <td>Clear conditions throughout the day.</td>\n",
       "      <td>clear-day</td>\n",
       "      <td>07460099999,07379099999,LFLC,07374099999,07477...</td>\n",
       "      <td>4184.375000</td>\n",
       "    </tr>\n",
       "    <tr>\n",
       "      <th>2</th>\n",
       "      <td>2022-08-12</td>\n",
       "      <td>93.6</td>\n",
       "      <td>53.6</td>\n",
       "      <td>75.0</td>\n",
       "      <td>89.6</td>\n",
       "      <td>53.6</td>\n",
       "      <td>73.7</td>\n",
       "      <td>48.1</td>\n",
       "      <td>45.0</td>\n",
       "      <td>0.000</td>\n",
       "      <td>...</td>\n",
       "      <td>9.0</td>\n",
       "      <td>NaN</td>\n",
       "      <td>2022-08-12T06:40:32</td>\n",
       "      <td>2022-08-12T20:59:27</td>\n",
       "      <td>0.50</td>\n",
       "      <td>Clear</td>\n",
       "      <td>Clear conditions throughout the day.</td>\n",
       "      <td>clear-day</td>\n",
       "      <td>07460099999,07379099999,LFLC,07374099999,07477...</td>\n",
       "      <td>3159.208333</td>\n",
       "    </tr>\n",
       "    <tr>\n",
       "      <th>3</th>\n",
       "      <td>2022-08-13</td>\n",
       "      <td>92.9</td>\n",
       "      <td>53.7</td>\n",
       "      <td>74.6</td>\n",
       "      <td>88.8</td>\n",
       "      <td>53.7</td>\n",
       "      <td>73.2</td>\n",
       "      <td>46.1</td>\n",
       "      <td>42.5</td>\n",
       "      <td>0.000</td>\n",
       "      <td>...</td>\n",
       "      <td>9.0</td>\n",
       "      <td>NaN</td>\n",
       "      <td>2022-08-13T06:41:47</td>\n",
       "      <td>2022-08-13T20:57:51</td>\n",
       "      <td>0.54</td>\n",
       "      <td>Clear</td>\n",
       "      <td>Clear conditions throughout the day.</td>\n",
       "      <td>clear-day</td>\n",
       "      <td>07460099999,07379099999,LFLC,07374099999,07477...</td>\n",
       "      <td>2776.208333</td>\n",
       "    </tr>\n",
       "    <tr>\n",
       "      <th>4</th>\n",
       "      <td>2022-08-14</td>\n",
       "      <td>76.6</td>\n",
       "      <td>61.8</td>\n",
       "      <td>68.4</td>\n",
       "      <td>76.6</td>\n",
       "      <td>61.8</td>\n",
       "      <td>68.4</td>\n",
       "      <td>58.4</td>\n",
       "      <td>71.5</td>\n",
       "      <td>0.274</td>\n",
       "      <td>...</td>\n",
       "      <td>5.0</td>\n",
       "      <td>NaN</td>\n",
       "      <td>2022-08-14T06:43:02</td>\n",
       "      <td>2022-08-14T20:56:14</td>\n",
       "      <td>0.58</td>\n",
       "      <td>Rain, Partially cloudy</td>\n",
       "      <td>Partly cloudy throughout the day with rain.</td>\n",
       "      <td>rain</td>\n",
       "      <td>07460099999,07379099999,LFLC,07374099999,07477...</td>\n",
       "      <td>3285.000000</td>\n",
       "    </tr>\n",
       "  </tbody>\n",
       "</table>\n",
       "<p>5 rows × 33 columns</p>\n",
       "</div>"
      ],
      "text/plain": [
       "     datetime  tempmax  tempmin  temp  feelslikemax  feelslikemin  feelslike  \\\n",
       "0  2022-08-10     91.3     53.0  73.4          87.6          53.0       72.1   \n",
       "1  2022-08-11     94.0     54.4  74.7          90.7          54.4       73.5   \n",
       "2  2022-08-12     93.6     53.6  75.0          89.6          53.6       73.7   \n",
       "3  2022-08-13     92.9     53.7  74.6          88.8          53.7       73.2   \n",
       "4  2022-08-14     76.6     61.8  68.4          76.6          61.8       68.4   \n",
       "\n",
       "    dew  humidity  precip  ...  uvindex  severerisk              sunrise  \\\n",
       "0  47.9      46.5   0.000  ...      9.0         NaN  2022-08-10T06:38:04   \n",
       "1  49.3      46.1   0.000  ...      9.0         NaN  2022-08-11T06:39:18   \n",
       "2  48.1      45.0   0.000  ...      9.0         NaN  2022-08-12T06:40:32   \n",
       "3  46.1      42.5   0.000  ...      9.0         NaN  2022-08-13T06:41:47   \n",
       "4  58.4      71.5   0.274  ...      5.0         NaN  2022-08-14T06:43:02   \n",
       "\n",
       "                sunset  moonphase              conditions  \\\n",
       "0  2022-08-10T21:02:35       0.44                   Clear   \n",
       "1  2022-08-11T21:01:02       0.48                   Clear   \n",
       "2  2022-08-12T20:59:27       0.50                   Clear   \n",
       "3  2022-08-13T20:57:51       0.54                   Clear   \n",
       "4  2022-08-14T20:56:14       0.58  Rain, Partially cloudy   \n",
       "\n",
       "                                   description       icon  \\\n",
       "0         Clear conditions throughout the day.  clear-day   \n",
       "1         Clear conditions throughout the day.  clear-day   \n",
       "2         Clear conditions throughout the day.  clear-day   \n",
       "3         Clear conditions throughout the day.  clear-day   \n",
       "4  Partly cloudy throughout the day with rain.       rain   \n",
       "\n",
       "                                            stations  AVERAGE of Wind_MWh  \n",
       "0  07460099999,07379099999,LFLC,07374099999,LFLV,...          4992.125000  \n",
       "1  07460099999,07379099999,LFLC,07374099999,07477...          4184.375000  \n",
       "2  07460099999,07379099999,LFLC,07374099999,07477...          3159.208333  \n",
       "3  07460099999,07379099999,LFLC,07374099999,07477...          2776.208333  \n",
       "4  07460099999,07379099999,LFLC,07374099999,07477...          3285.000000  \n",
       "\n",
       "[5 rows x 33 columns]"
      ]
     },
     "execution_count": 3,
     "metadata": {},
     "output_type": "execute_result"
    }
   ],
   "source": [
    "data.head()"
   ]
  },
  {
   "cell_type": "code",
   "execution_count": 4,
   "metadata": {},
   "outputs": [],
   "source": [
    "# Convert datetime to features\n",
    "data['datetime'] = pd.to_datetime(data['datetime'])\n",
    "data['year'] = data['datetime'].dt.year\n",
    "data['month'] = data['datetime'].dt.month\n",
    "data['day'] = data['datetime'].dt.day\n",
    "data['day_of_year'] = data['datetime'].dt.dayofyear\n",
    "\n",
    "# Extract time components from sunrise and sunset\n",
    "data['sunrise_hour'] = pd.to_datetime(data['sunrise']).dt.hour\n",
    "data['sunrise_minute'] = pd.to_datetime(data['sunrise']).dt.minute\n",
    "data['sunset_hour'] = pd.to_datetime(data['sunset']).dt.hour\n",
    "data['sunset_minute'] = pd.to_datetime(data['sunset']).dt.minute\n",
    "data['daylight_hours'] = (pd.to_datetime(data['sunset']) - pd.to_datetime(data['sunrise'])).dt.total_seconds()/3600"
   ]
  },
  {
   "cell_type": "code",
   "execution_count": 5,
   "metadata": {},
   "outputs": [
    {
     "data": {
      "text/plain": [
       "(995, 42)"
      ]
     },
     "execution_count": 5,
     "metadata": {},
     "output_type": "execute_result"
    }
   ],
   "source": [
    "data.shape"
   ]
  },
  {
   "cell_type": "code",
   "execution_count": 6,
   "metadata": {},
   "outputs": [],
   "source": [
    "# Handle categorical variables (conditions)\n",
    "conditions_dummies = pd.get_dummies(data['conditions'], prefix='cond')\n",
    "data = pd.concat([data, conditions_dummies], axis=1)"
   ]
  },
  {
   "cell_type": "code",
   "execution_count": 7,
   "metadata": {},
   "outputs": [],
   "source": [
    "# Drop unnecessary columns\n",
    "drop_cols = ['datetime', 'sunrise', 'sunset', 'conditions', 'description', \n",
    "             'icon', 'stations', 'preciptype', 'severerisk', 'solarenergy']\n",
    "data = data.drop(columns=drop_cols)"
   ]
  },
  {
   "cell_type": "code",
   "execution_count": 8,
   "metadata": {},
   "outputs": [
    {
     "data": {
      "text/plain": [
       "(995, 40)"
      ]
     },
     "execution_count": 8,
     "metadata": {},
     "output_type": "execute_result"
    }
   ],
   "source": [
    "data.shape"
   ]
  },
  {
   "cell_type": "code",
   "execution_count": 9,
   "metadata": {},
   "outputs": [
    {
     "data": {
      "text/plain": [
       "Index(['tempmax', 'tempmin', 'temp', 'feelslikemax', 'feelslikemin',\n",
       "       'feelslike', 'dew', 'humidity', 'precip', 'precipprob', 'precipcover',\n",
       "       'snow', 'snowdepth', 'windgust', 'windspeed', 'winddir',\n",
       "       'sealevelpressure', 'cloudcover', 'visibility', 'solarradiation',\n",
       "       'uvindex', 'moonphase', 'AVERAGE of Wind_MWh', 'year', 'month', 'day',\n",
       "       'day_of_year', 'sunrise_hour', 'sunrise_minute', 'sunset_hour',\n",
       "       'sunset_minute', 'daylight_hours', 'cond_Clear', 'cond_Overcast',\n",
       "       'cond_Partially cloudy', 'cond_Rain', 'cond_Rain, Overcast',\n",
       "       'cond_Rain, Partially cloudy', 'cond_Snow, Rain, Overcast',\n",
       "       'cond_Snow, Rain, Partially cloudy'],\n",
       "      dtype='object')"
      ]
     },
     "execution_count": 9,
     "metadata": {},
     "output_type": "execute_result"
    }
   ],
   "source": [
    "data.columns"
   ]
  },
  {
   "cell_type": "code",
   "execution_count": 10,
   "metadata": {},
   "outputs": [],
   "source": [
    "# Handle missing values\n",
    "data = data.fillna(data.mean())"
   ]
  },
  {
   "cell_type": "code",
   "execution_count": 11,
   "metadata": {},
   "outputs": [],
   "source": [
    "# Define features and target\n",
    "X = data.drop(columns=['AVERAGE of Wind_MWh'])\n",
    "y = data['AVERAGE of Wind_MWh']"
   ]
  },
  {
   "cell_type": "code",
   "execution_count": 12,
   "metadata": {},
   "outputs": [
    {
     "data": {
      "text/plain": [
       "((995, 39), (995,))"
      ]
     },
     "execution_count": 12,
     "metadata": {},
     "output_type": "execute_result"
    }
   ],
   "source": [
    "X.shape ,y.shape"
   ]
  },
  {
   "cell_type": "markdown",
   "metadata": {},
   "source": [
    "<h4>TRAIN TEST SPLIT</h4>"
   ]
  },
  {
   "cell_type": "code",
   "execution_count": 13,
   "metadata": {},
   "outputs": [],
   "source": [
    "# Split data\n",
    "X_train, X_test, y_train, y_test = train_test_split(X, y, test_size=0.2, random_state=42)\n",
    "\n",
    "# Feature scaling\n",
    "scaler = StandardScaler()\n",
    "X_train_scaled = scaler.fit_transform(X_train)\n",
    "X_test_scaled = scaler.transform(X_test)\n",
    "with open(\"wind_scaler.pkl\", \"wb\") as f:\n",
    "    pickle.dump(scaler, f)"
   ]
  },
  {
   "cell_type": "markdown",
   "metadata": {},
   "source": [
    "<h4>GRID SEARCH CV</h4>"
   ]
  },
  {
   "cell_type": "code",
   "execution_count": null,
   "metadata": {},
   "outputs": [
    {
     "name": "stdout",
     "output_type": "stream",
     "text": [
      "Fitting 10 folds for each of 729 candidates, totalling 7290 fits\n"
     ]
    }
   ],
   "source": [
    "# Define the parameter grid\n",
    "param_grid = {\n",
    "    'n_estimators': [100, 200, 300],\n",
    "    'max_depth': [3, 5, 7],\n",
    "    'learning_rate': [0.01, 0.1, 0.2],\n",
    "    'subsample': [0.8, 0.9, 1.0],\n",
    "    'colsample_bytree': [0.8, 0.9, 1.0],\n",
    "    'gamma': [0.1, 0.02, 0.03]\n",
    "}\n",
    "\n",
    "# Create the XGBoost model\n",
    "xgb = XGBRegressor(random_state=42)\n",
    "\n",
    "# Grid search with cross-validation\n",
    "grid_search = GridSearchCV(\n",
    "    estimator=xgb,\n",
    "    param_grid=param_grid,\n",
    "    cv=10,\n",
    "    scoring='neg_mean_squared_error',\n",
    "    n_jobs=-1,\n",
    "    verbose=1\n",
    ")\n",
    "\n",
    "# Fit the grid search\n",
    "grid_search.fit(X_train_scaled, y_train)\n",
    "\n",
    "# Get the best parameters\n",
    "best_params = grid_search.best_params_\n",
    "print(\"Best parameters found: \", best_params)"
   ]
  },
  {
   "cell_type": "markdown",
   "metadata": {},
   "source": [
    "<h4>TRANING AND TESTING MODEL</h4>"
   ]
  },
  {
   "cell_type": "code",
   "execution_count": 15,
   "metadata": {},
   "outputs": [
    {
     "name": "stdout",
     "output_type": "stream",
     "text": [
      "Mean Squared Error: 4830289.36\n",
      "Mean Absolute Error: 1715.23\n",
      "R-squared: 0.60\n"
     ]
    }
   ],
   "source": [
    "# Train the model with best parameters\n",
    "best_xgb = XGBRegressor(**best_params, random_state=42)\n",
    "best_xgb.fit(X_train_scaled, y_train)\n",
    "\n",
    "# Make predictions\n",
    "y_pred = best_xgb.predict(X_test_scaled)\n",
    "\n",
    "# Evaluate the model\n",
    "mse = mean_squared_error(y_test, y_pred)\n",
    "mae = mean_absolute_error(y_test, y_pred)\n",
    "r2 = r2_score(y_test, y_pred)\n",
    "\n",
    "print(f\"Mean Squared Error: {mse:.2f}\")\n",
    "print(f\"Mean Absolute Error: {mae:.2f}\")\n",
    "print(f\"R-squared: {r2:.2f}\")"
   ]
  },
  {
   "cell_type": "code",
   "execution_count": 16,
   "metadata": {},
   "outputs": [
    {
     "data": {
      "text/plain": [
       "['wind_model.pkl']"
      ]
     },
     "execution_count": 16,
     "metadata": {},
     "output_type": "execute_result"
    }
   ],
   "source": [
    "import joblib\n",
    "\n",
    "# Save the model\n",
    "joblib.dump(best_xgb, 'wind_model2.pkl')"
   ]
  },
  {
   "cell_type": "code",
   "execution_count": null,
   "metadata": {},
   "outputs": [
    {
     "name": "stdout",
     "output_type": "stream",
     "text": [
      "[4334.2686 9801.202  3197.6733 2011.5083 5207.754 ]\n"
     ]
    }
   ],
   "source": [
    "# Load the saved model\n",
    "loaded_model = joblib.load('wind_model2.pkl')\n",
    "\n",
    "# Test it on some new (or test) data\n",
    "new_predictions = loaded_model.predict(X_test_scaled)\n",
    "print(new_predictions[:5])"
   ]
  },
  {
   "cell_type": "code",
   "execution_count": 19,
   "metadata": {},
   "outputs": [
    {
     "name": "stdout",
     "output_type": "stream",
     "text": [
      "920    4647.708333\n",
      "525    6504.416667\n",
      "567    2964.000000\n",
      "657    4233.833333\n",
      "633    2489.416667\n",
      "Name: AVERAGE of Wind_MWh, dtype: float64\n"
     ]
    }
   ],
   "source": [
    "print(y_test[:5])"
   ]
  },
  {
   "cell_type": "code",
   "execution_count": null,
   "metadata": {},
   "outputs": [],
   "source": []
  }
 ],
 "metadata": {
  "kernelspec": {
   "display_name": "venv",
   "language": "python",
   "name": "python3"
  },
  "language_info": {
   "codemirror_mode": {
    "name": "ipython",
    "version": 3
   },
   "file_extension": ".py",
   "mimetype": "text/x-python",
   "name": "python",
   "nbconvert_exporter": "python",
   "pygments_lexer": "ipython3",
   "version": "3.10.0"
  }
 },
 "nbformat": 4,
 "nbformat_minor": 2
}
