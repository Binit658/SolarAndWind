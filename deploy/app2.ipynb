{
 "cells": [
  {
   "cell_type": "code",
   "execution_count": 1,
   "metadata": {},
   "outputs": [],
   "source": [
    "from fastapi import FastAPI, Query\n",
    "from fastapi.middleware.cors import CORSMiddleware\n",
    "import requests\n",
    "\n",
    "app = FastAPI()\n",
    "app.add_middleware(\n",
    "    CORSMiddleware,\n",
    "    allow_origins=[\"*\"],\n",
    "    allow_credentials=True,\n",
    "    allow_methods=[\"*\"],\n",
    "    allow_headers=[\"*\"],\n",
    ")\n",
    "# Replace with your actual API key\n",
    "API_URL=\"https://weather.visualcrossing.com/VisualCrossingWebServices/rest/services/timeline/silchar/today?unitGroup=us&key=4RH3KGN9E38EDN8W7XJT42SQ5&contentType=json\"\n",
    "@app.get(\"/weather/\")\n",
    "def get_weather(location: str = Query(..., description=\"City or location name\")):\n",
    "    url = f\"https://weather.visualcrossing.com/VisualCrossingWebServices/rest/services/timeline/{location}/today?unitGroup=us&key=4RH3KGN9E38EDN8W7XJT42SQ5&contentType=json\"\n",
    "\n",
    "\n",
    "    response = requests.get(url)\n",
    "\n",
    "    if response.status_code != 200:\n",
    "        return {\"error\": \"Failed to fetch weather data\"}\n",
    "\n",
    "    data = response.json()\n",
    "    return data['days']\n"
   ]
  },
  {
   "cell_type": "code",
   "execution_count": 2,
   "metadata": {},
   "outputs": [],
   "source": [
    "import pandas as pd\n",
    "data=pd.DataFrame(get_weather(location=\"guwahati\"))"
   ]
  },
  {
   "cell_type": "code",
   "execution_count": 3,
   "metadata": {},
   "outputs": [
    {
     "data": {
      "text/plain": [
       "(1, 37)"
      ]
     },
     "execution_count": 3,
     "metadata": {},
     "output_type": "execute_result"
    }
   ],
   "source": [
    "data.shape"
   ]
  },
  {
   "cell_type": "code",
   "execution_count": 4,
   "metadata": {},
   "outputs": [],
   "source": [
    "\n",
    "# Convert datetime to features\n",
    "data['datetime'] = pd.to_datetime(data['datetime'])\n",
    "data['year'] = data['datetime'].dt.year\n",
    "data['month'] = data['datetime'].dt.month\n",
    "data['day'] = data['datetime'].dt.day\n",
    "data['day_of_year'] = data['datetime'].dt.dayofyear\n",
    "\n",
    "# Extract time components from sunrise and sunset\n",
    "data['sunrise_hour'] = pd.to_datetime(data['sunrise']).dt.hour\n",
    "data['sunrise_minute'] = pd.to_datetime(data['sunrise']).dt.minute\n",
    "data['sunset_hour'] = pd.to_datetime(data['sunset']).dt.hour\n",
    "data['sunset_minute'] = pd.to_datetime(data['sunset']).dt.minute\n",
    "data['daylight_hours'] = (pd.to_datetime(data['sunset']) - pd.to_datetime(data['sunrise'])).dt.total_seconds()/3600\n",
    "\n",
    "# Handle categorical variables (conditions)\n",
    "conditions_dummies = pd.get_dummies(data['conditions'], prefix='cond')\n",
    "data = pd.concat([data, conditions_dummies], axis=1)\n",
    "# Ensure all expected condition columns are present\n",
    "expected_conditions = [\n",
    "        'cond_Clear', 'cond_Overcast',\n",
    "       'cond_Partially cloudy', 'cond_Rain, Overcast',\n",
    "       'cond_Rain, Partially cloudy'\n",
    "    ]\n",
    "for cond in expected_conditions:\n",
    "        if cond not in data.columns:\n",
    "            data[cond] = 0\n",
    "data.rename(columns={'pressure': 'sealevelpressure'}, inplace=True)\n",
    "# Drop unnecessary columns\n",
    "drop_cols = ['datetimeEpoch','datetime', 'sunriseEpoch', 'sunsetEpoch','source', 'hours','sunrise', 'sunset', 'conditions', 'description', \n",
    "             'icon', 'stations', 'preciptype', 'severerisk']\n",
    "data = data.drop(columns=drop_cols)"
   ]
  },
  {
   "cell_type": "markdown",
   "metadata": {},
   "source": [
    "reindexing"
   ]
  },
  {
   "cell_type": "code",
   "execution_count": 5,
   "metadata": {},
   "outputs": [],
   "source": [
    "correct_order = ['tempmax', 'tempmin', 'temp', 'feelslikemax', 'feelslikemin',\n",
    "       'feelslike', 'dew', 'humidity', 'precip', 'precipprob', 'precipcover',\n",
    "       'snow', 'snowdepth', 'windgust', 'windspeed', 'winddir',\n",
    "       'sealevelpressure', 'cloudcover', 'visibility', 'solarradiation',\n",
    "       'solarenergy', 'uvindex', 'moonphase', 'year', 'month', 'day',\n",
    "       'day_of_year', 'sunrise_hour', 'sunrise_minute', 'sunset_hour',\n",
    "       'sunset_minute', 'daylight_hours', 'cond_Clear', 'cond_Overcast',\n",
    "       'cond_Partially cloudy', 'cond_Rain, Overcast',\n",
    "       'cond_Rain, Partially cloudy']\n",
    "\n",
    "\n",
    "# Reorder and align test data\n",
    "data= data.reindex(columns=correct_order, fill_value=0)"
   ]
  },
  {
   "cell_type": "code",
   "execution_count": 6,
   "metadata": {},
   "outputs": [
    {
     "data": {
      "text/plain": [
       "(1, 37)"
      ]
     },
     "execution_count": 6,
     "metadata": {},
     "output_type": "execute_result"
    }
   ],
   "source": [
    "data.shape"
   ]
  },
  {
   "cell_type": "code",
   "execution_count": 7,
   "metadata": {},
   "outputs": [
    {
     "data": {
      "text/plain": [
       "Index(['tempmax', 'tempmin', 'temp', 'feelslikemax', 'feelslikemin',\n",
       "       'feelslike', 'dew', 'humidity', 'precip', 'precipprob', 'precipcover',\n",
       "       'snow', 'snowdepth', 'windgust', 'windspeed', 'winddir',\n",
       "       'sealevelpressure', 'cloudcover', 'visibility', 'solarradiation',\n",
       "       'solarenergy', 'uvindex', 'moonphase', 'year', 'month', 'day',\n",
       "       'day_of_year', 'sunrise_hour', 'sunrise_minute', 'sunset_hour',\n",
       "       'sunset_minute', 'daylight_hours', 'cond_Clear', 'cond_Overcast',\n",
       "       'cond_Partially cloudy', 'cond_Rain, Overcast',\n",
       "       'cond_Rain, Partially cloudy'],\n",
       "      dtype='object')"
      ]
     },
     "execution_count": 7,
     "metadata": {},
     "output_type": "execute_result"
    }
   ],
   "source": [
    "data.columns"
   ]
  },
  {
   "cell_type": "code",
   "execution_count": 8,
   "metadata": {},
   "outputs": [],
   "source": [
    "# Handle missing values\n",
    "data = data.fillna(data.mean())"
   ]
  },
  {
   "cell_type": "code",
   "execution_count": 9,
   "metadata": {},
   "outputs": [],
   "source": [
    "# Define features and target\n",
    "X = data.drop(columns=['solarenergy'])\n",
    "y = data['solarenergy']"
   ]
  },
  {
   "cell_type": "code",
   "execution_count": 10,
   "metadata": {},
   "outputs": [],
   "source": [
    "import pickle\n",
    "with open(\"xgboost_scaler.pkl\", \"rb\") as f:\n",
    "    scaler = pickle.load(f)\n",
    "\n",
    "X_scaled = scaler.transform(X)"
   ]
  },
  {
   "cell_type": "markdown",
   "metadata": {},
   "source": [
    "<h4>FINAL PREDICTION</h4>"
   ]
  },
  {
   "cell_type": "code",
   "execution_count": 12,
   "metadata": {},
   "outputs": [
    {
     "name": "stdout",
     "output_type": "stream",
     "text": [
      "[25.899761]\n"
     ]
    }
   ],
   "source": [
    "import joblib\n",
    "with open(\"xgboost_scaler.pkl\", \"rb\") as f:\n",
    "    scaler = pickle.load(f)\n",
    "model = joblib.load(\"best_xgb_model.pkl\")\n",
    "predictions = model.predict(X_scaled)\n",
    "print(predictions)\n"
   ]
  },
  {
   "cell_type": "code",
   "execution_count": 13,
   "metadata": {},
   "outputs": [
    {
     "data": {
      "text/plain": [
       "0    28.6\n",
       "Name: solarenergy, dtype: float64"
      ]
     },
     "execution_count": 13,
     "metadata": {},
     "output_type": "execute_result"
    }
   ],
   "source": [
    "y"
   ]
  },
  {
   "cell_type": "code",
   "execution_count": null,
   "metadata": {},
   "outputs": [],
   "source": []
  }
 ],
 "metadata": {
  "kernelspec": {
   "display_name": ".venv",
   "language": "python",
   "name": "python3"
  },
  "language_info": {
   "codemirror_mode": {
    "name": "ipython",
    "version": 3
   },
   "file_extension": ".py",
   "mimetype": "text/x-python",
   "name": "python",
   "nbconvert_exporter": "python",
   "pygments_lexer": "ipython3",
   "version": "3.10.0"
  }
 },
 "nbformat": 4,
 "nbformat_minor": 2
}
